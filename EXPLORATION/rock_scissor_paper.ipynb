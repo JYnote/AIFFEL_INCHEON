{
 "cells": [
  {
   "cell_type": "markdown",
   "id": "brutal-binding",
   "metadata": {},
   "source": [
    "# 딥러닝 네트워크 설계하기"
   ]
  },
  {
   "cell_type": "code",
   "execution_count": 1,
   "id": "sought-depression",
   "metadata": {},
   "outputs": [
    {
     "name": "stdout",
     "output_type": "stream",
     "text": [
      "Model에 추가된 레이어의 개수 :  7\n",
      "Model: \"sequential\"\n",
      "_________________________________________________________________\n",
      "Layer (type)                 Output Shape              Param #   \n",
      "=================================================================\n",
      "conv2d (Conv2D)              (None, 110, 110, 16)      448       \n",
      "_________________________________________________________________\n",
      "max_pooling2d (MaxPooling2D) (None, 55, 55, 16)        0         \n",
      "_________________________________________________________________\n",
      "conv2d_1 (Conv2D)            (None, 53, 53, 32)        4640      \n",
      "_________________________________________________________________\n",
      "max_pooling2d_1 (MaxPooling2 (None, 26, 26, 32)        0         \n",
      "_________________________________________________________________\n",
      "flatten (Flatten)            (None, 21632)             0         \n",
      "_________________________________________________________________\n",
      "dense (Dense)                (None, 32)                692256    \n",
      "_________________________________________________________________\n",
      "dense_1 (Dense)              (None, 10)                330       \n",
      "=================================================================\n",
      "Total params: 697,674\n",
      "Trainable params: 697,674\n",
      "Non-trainable params: 0\n",
      "_________________________________________________________________\n"
     ]
    }
   ],
   "source": [
    "import tensorflow as tf\n",
    "from tensorflow import keras\n",
    "import numpy as np\n",
    "from PIL import Image\n",
    "import os, glob\n",
    "\n",
    "model=keras.models.Sequential()\n",
    "model.add(keras.layers.Conv2D(16, (3,3), activation='relu', input_shape=(112,112,3))) #이미지 사이즈를 112x112로 입력받음\n",
    "model.add(keras.layers.MaxPool2D(2,2))\n",
    "model.add(keras.layers.Conv2D(32, (3,3), activation='relu'))\n",
    "model.add(keras.layers.MaxPooling2D((2,2)))\n",
    "model.add(keras.layers.Flatten())\n",
    "model.add(keras.layers.Dense(32, activation='relu'))\n",
    "model.add(keras.layers.Dense(10, activation='softmax'))\n",
    "\n",
    "print(\"Model에 추가된 레이어의 개수 : \", len(model.layers))\n",
    "model.summary()"
   ]
  },
  {
   "cell_type": "markdown",
   "id": "sixth-designation",
   "metadata": {},
   "source": [
    "# 학습 데이터 불러오기 + Resize 하기"
   ]
  },
  {
   "cell_type": "code",
   "execution_count": 2,
   "id": "collectible-colleague",
   "metadata": {},
   "outputs": [
    {
     "name": "stdout",
     "output_type": "stream",
     "text": [
      "500  images to be resized.\n",
      "500  images resized.\n",
      "가위 이미지 resize 완료!\n",
      "500  images to be resized.\n",
      "500  images resized.\n",
      "바위 이미지 resize 완료!\n",
      "500  images to be resized.\n",
      "500  images resized.\n",
      "보 이미지 resize 완료!\n"
     ]
    }
   ],
   "source": [
    "def resize_images(img_path):\n",
    "\timages=glob.glob(img_path + \"/*.jpg\")  \n",
    "    \n",
    "\tprint(len(images), \" images to be resized.\")\n",
    "\n",
    "    # 파일마다 모두 112x112 사이즈로 바꾸어 저장합니다.\n",
    "\ttarget_size=(112,112)\n",
    "\tfor img in images:\n",
    "\t\told_img=Image.open(img)\n",
    "\t\tnew_img=old_img.resize(target_size,Image.ANTIALIAS)\n",
    "\t\tnew_img.save(img, \"JPEG\")\n",
    "    \n",
    "\tprint(len(images), \" images resized.\")\n",
    "\t\n",
    "# 가위 이미지가 저장된 디렉토리 아래의 모든 jpg 파일을 읽어들여서\n",
    "image_dir_path = os.getenv(\"HOME\") + \"/aiffel/rock_scissor_paper/scissor\"\n",
    "resize_images(image_dir_path)\n",
    "\n",
    "print(\"가위 이미지 resize 완료!\")\n",
    "\n",
    "image_dir_path = os.getenv(\"HOME\") + \"/aiffel/rock_scissor_paper/rock\"\n",
    "resize_images(image_dir_path)\n",
    "\n",
    "print(\"바위 이미지 resize 완료!\")\n",
    "\n",
    "image_dir_path = os.getenv(\"HOME\") + \"/aiffel/rock_scissor_paper/paper\"\n",
    "resize_images(image_dir_path)\n",
    "\n",
    "print(\"보 이미지 resize 완료!\")"
   ]
  },
  {
   "cell_type": "code",
   "execution_count": 3,
   "id": "drawn-brake",
   "metadata": {
    "scrolled": true
   },
   "outputs": [
    {
     "name": "stdout",
     "output_type": "stream",
     "text": [
      "학습 데이터(x_train)의 이미지 개수는 1500 입니다.\n",
      "x_train shape: (1500, 112, 112, 3)\n",
      "y_train shape: (1500,)\n"
     ]
    }
   ],
   "source": [
    "def load_data(img_path, number_of_data=1500):  # 가위바위보 이미지 개수 총합에 주의하세요.\n",
    "    # 가위 : 0, 바위 : 1, 보 : 2\n",
    "    img_size=112\n",
    "    color=3\n",
    "    #이미지 데이터와 라벨(가위 : 0, 바위 : 1, 보 : 2) 데이터를 담을 행렬(matrix) 영역을 생성합니다.\n",
    "    imgs=np.zeros(number_of_data*img_size*img_size*color,dtype=np.int32).reshape(number_of_data,img_size,img_size,color)\n",
    "    labels=np.zeros(number_of_data,dtype=np.int32)\n",
    "\n",
    "    idx=0\n",
    "    for file in glob.iglob(img_path+'/scissor/*.jpg'):\n",
    "        img = np.array(Image.open(file),dtype=np.int32)\n",
    "        imgs[idx,:,:,:]=img    # 데이터 영역에 이미지 행렬을 복사\n",
    "        labels[idx]=0   # 가위 : 0\n",
    "        idx=idx+1\n",
    "\n",
    "    for file in glob.iglob(img_path+'/rock/*.jpg'):\n",
    "        img = np.array(Image.open(file),dtype=np.int32)\n",
    "        imgs[idx,:,:,:]=img    # 데이터 영역에 이미지 행렬을 복사\n",
    "        labels[idx]=1   # 바위 : 1\n",
    "        idx=idx+1  \n",
    "    \n",
    "    for file in glob.iglob(img_path+'/paper/*.jpg'):\n",
    "        img = np.array(Image.open(file),dtype=np.int32)\n",
    "        imgs[idx,:,:,:]=img    # 데이터 영역에 이미지 행렬을 복사\n",
    "        labels[idx]=2   # 보 : 2\n",
    "        idx=idx+1\n",
    "        \n",
    "    print(\"학습 데이터(x_train)의 이미지 개수는\", idx,\"입니다.\")\n",
    "    return imgs, labels\n",
    "\n",
    "image_dir_path = os.getenv(\"HOME\") + \"/aiffel/rock_scissor_paper\"\n",
    "(x_train, y_train)=load_data(image_dir_path)\n",
    "x_train_norm = x_train/255.0   # 입력은 0~1 사이의 값으로 정규화\n",
    "\n",
    "print(\"x_train shape: {}\".format(x_train.shape))\n",
    "print(\"y_train shape: {}\".format(y_train.shape))"
   ]
  },
  {
   "cell_type": "markdown",
   "id": "attempted-morning",
   "metadata": {},
   "source": [
    "# 이미지 확인해보기"
   ]
  },
  {
   "cell_type": "code",
   "execution_count": 4,
   "id": "lesbian-ottawa",
   "metadata": {},
   "outputs": [
    {
     "name": "stdout",
     "output_type": "stream",
     "text": [
      "라벨:  0\n"
     ]
    },
    {
     "data": {
      "image/png": "[encoded data removed]",
      "text/plain": [
       "<Figure size 432x288 with 1 Axes>"
      ]
     },
     "metadata": {
      "needs_background": "light"
     },
     "output_type": "display_data"
    }
   ],
   "source": [
    "import matplotlib.pyplot as plt\n",
    "plt.imshow(x_train[300])\n",
    "print('라벨: ', y_train[300])"
   ]
  },
  {
   "cell_type": "markdown",
   "id": "multiple-acrylic",
   "metadata": {},
   "source": [
    "# 딥러닝 네트워크 학습시키기"
   ]
  },
  {
   "cell_type": "code",
   "execution_count": 5,
   "id": "universal-tuning",
   "metadata": {},
   "outputs": [
    {
     "name": "stdout",
     "output_type": "stream",
     "text": [
      "Epoch 1/50\n",
      "47/47 [==============================] - 6s 61ms/step - loss: 1.3442 - accuracy: 0.3936\n",
      "Epoch 2/50\n",
      "47/47 [==============================] - 1s 12ms/step - loss: 0.7074 - accuracy: 0.7110\n",
      "Epoch 3/50\n",
      "47/47 [==============================] - 1s 11ms/step - loss: 0.4065 - accuracy: 0.8401\n",
      "Epoch 4/50\n",
      "47/47 [==============================] - 1s 11ms/step - loss: 0.3221 - accuracy: 0.8832\n",
      "Epoch 5/50\n",
      "47/47 [==============================] - 1s 11ms/step - loss: 0.2246 - accuracy: 0.9086\n",
      "Epoch 6/50\n",
      "47/47 [==============================] - 1s 11ms/step - loss: 0.1737 - accuracy: 0.9382\n",
      "Epoch 7/50\n",
      "47/47 [==============================] - 1s 11ms/step - loss: 0.1692 - accuracy: 0.9360\n",
      "Epoch 8/50\n",
      "47/47 [==============================] - 1s 11ms/step - loss: 0.0939 - accuracy: 0.9716\n",
      "Epoch 9/50\n",
      "47/47 [==============================] - 1s 11ms/step - loss: 0.1009 - accuracy: 0.9610\n",
      "Epoch 10/50\n",
      "47/47 [==============================] - 1s 11ms/step - loss: 0.0831 - accuracy: 0.9809\n",
      "Epoch 11/50\n",
      "47/47 [==============================] - 1s 11ms/step - loss: 0.0486 - accuracy: 0.9895\n",
      "Epoch 12/50\n",
      "47/47 [==============================] - 1s 11ms/step - loss: 0.0459 - accuracy: 0.9892\n",
      "Epoch 13/50\n",
      "47/47 [==============================] - 1s 11ms/step - loss: 0.0443 - accuracy: 0.9897\n",
      "Epoch 14/50\n",
      "47/47 [==============================] - 1s 11ms/step - loss: 0.0331 - accuracy: 0.9901\n",
      "Epoch 15/50\n",
      "47/47 [==============================] - 1s 11ms/step - loss: 0.0155 - accuracy: 0.9992\n",
      "Epoch 16/50\n",
      "47/47 [==============================] - 1s 11ms/step - loss: 0.0257 - accuracy: 0.9879\n",
      "Epoch 17/50\n",
      "47/47 [==============================] - 1s 11ms/step - loss: 0.0384 - accuracy: 0.9914\n",
      "Epoch 18/50\n",
      "47/47 [==============================] - 1s 11ms/step - loss: 0.0126 - accuracy: 0.9998\n",
      "Epoch 19/50\n",
      "47/47 [==============================] - 1s 11ms/step - loss: 0.0082 - accuracy: 1.0000\n",
      "Epoch 20/50\n",
      "47/47 [==============================] - 1s 11ms/step - loss: 0.0059 - accuracy: 0.9999\n",
      "Epoch 21/50\n",
      "47/47 [==============================] - 1s 11ms/step - loss: 0.0064 - accuracy: 0.9991\n",
      "Epoch 22/50\n",
      "47/47 [==============================] - 1s 11ms/step - loss: 0.0034 - accuracy: 1.0000\n",
      "Epoch 23/50\n",
      "47/47 [==============================] - 1s 11ms/step - loss: 0.0034 - accuracy: 1.0000\n",
      "Epoch 24/50\n",
      "47/47 [==============================] - 1s 11ms/step - loss: 0.0033 - accuracy: 1.0000\n",
      "Epoch 25/50\n",
      "47/47 [==============================] - 1s 11ms/step - loss: 0.0022 - accuracy: 1.0000\n",
      "Epoch 26/50\n",
      "47/47 [==============================] - 1s 11ms/step - loss: 0.0031 - accuracy: 1.0000\n",
      "Epoch 27/50\n",
      "47/47 [==============================] - 1s 11ms/step - loss: 0.0014 - accuracy: 1.0000\n",
      "Epoch 28/50\n",
      "47/47 [==============================] - 1s 11ms/step - loss: 0.0019 - accuracy: 1.0000\n",
      "Epoch 29/50\n",
      "47/47 [==============================] - 1s 11ms/step - loss: 0.0014 - accuracy: 1.0000\n",
      "Epoch 30/50\n",
      "47/47 [==============================] - 1s 11ms/step - loss: 0.0016 - accuracy: 1.0000\n",
      "Epoch 31/50\n",
      "47/47 [==============================] - 1s 11ms/step - loss: 0.0014 - accuracy: 1.0000\n",
      "Epoch 32/50\n",
      "47/47 [==============================] - 1s 11ms/step - loss: 9.8988e-04 - accuracy: 1.0000\n",
      "Epoch 33/50\n",
      "47/47 [==============================] - 1s 11ms/step - loss: 7.8518e-04 - accuracy: 1.0000\n",
      "Epoch 34/50\n",
      "47/47 [==============================] - 1s 11ms/step - loss: 0.0014 - accuracy: 1.0000\n",
      "Epoch 35/50\n",
      "47/47 [==============================] - 1s 11ms/step - loss: 6.2427e-04 - accuracy: 1.0000\n",
      "Epoch 36/50\n",
      "47/47 [==============================] - 1s 11ms/step - loss: 6.8373e-04 - accuracy: 1.0000\n",
      "Epoch 37/50\n",
      "47/47 [==============================] - 1s 11ms/step - loss: 6.8058e-04 - accuracy: 1.0000\n",
      "Epoch 38/50\n",
      "47/47 [==============================] - 1s 11ms/step - loss: 5.8386e-04 - accuracy: 1.0000\n",
      "Epoch 39/50\n",
      "47/47 [==============================] - 1s 11ms/step - loss: 5.1460e-04 - accuracy: 1.0000\n",
      "Epoch 40/50\n",
      "47/47 [==============================] - 1s 11ms/step - loss: 5.7910e-04 - accuracy: 1.0000\n",
      "Epoch 41/50\n",
      "47/47 [==============================] - 1s 11ms/step - loss: 5.9750e-04 - accuracy: 1.0000\n",
      "Epoch 42/50\n",
      "47/47 [==============================] - 1s 11ms/step - loss: 4.8224e-04 - accuracy: 1.0000\n",
      "Epoch 43/50\n",
      "47/47 [==============================] - 1s 11ms/step - loss: 4.9259e-04 - accuracy: 1.0000\n",
      "Epoch 44/50\n",
      "47/47 [==============================] - 1s 11ms/step - loss: 4.1216e-04 - accuracy: 1.0000\n",
      "Epoch 45/50\n",
      "47/47 [==============================] - 1s 11ms/step - loss: 4.8115e-04 - accuracy: 1.0000\n",
      "Epoch 46/50\n",
      "47/47 [==============================] - 1s 11ms/step - loss: 3.3429e-04 - accuracy: 1.0000\n",
      "Epoch 47/50\n",
      "47/47 [==============================] - 1s 11ms/step - loss: 3.5170e-04 - accuracy: 1.0000\n",
      "Epoch 48/50\n",
      "47/47 [==============================] - 1s 11ms/step - loss: 3.2020e-04 - accuracy: 1.0000\n",
      "Epoch 49/50\n",
      "47/47 [==============================] - 1s 11ms/step - loss: 2.7090e-04 - accuracy: 1.0000\n",
      "Epoch 50/50\n",
      "47/47 [==============================] - 1s 11ms/step - loss: 3.0099e-04 - accuracy: 1.0000\n"
     ]
    },
    {
     "data": {
      "text/plain": [
       "<tensorflow.python.keras.callbacks.History at 0x7ff61406c590>"
      ]
     },
     "execution_count": 5,
     "metadata": {},
     "output_type": "execute_result"
    }
   ],
   "source": [
    "model.compile(optimizer='adam',\n",
    "             loss='sparse_categorical_crossentropy',\n",
    "             metrics=['accuracy'])\n",
    "\n",
    "model.fit(x_train_norm, y_train, epochs=50)"
   ]
  },
  {
   "cell_type": "markdown",
   "id": "manual-leadership",
   "metadata": {},
   "source": [
    "# 얼마나 잘 만들었는지 확인하기(테스트 데이터 불러오기 + Resize 하기)"
   ]
  },
  {
   "cell_type": "code",
   "execution_count": 6,
   "id": "academic-rapid",
   "metadata": {},
   "outputs": [
    {
     "name": "stdout",
     "output_type": "stream",
     "text": [
      "100  images to be resized.\n",
      "100  images resized.\n",
      "가위 이미지 resize 완료!\n",
      "100  images to be resized.\n",
      "100  images resized.\n",
      "바위 이미지 resize 완료!\n",
      "100  images to be resized.\n",
      "100  images resized.\n",
      "보 이미지 resize 완료!\n",
      "테스트 데이터(x_train)의 이미지 개수는 300 입니다.\n",
      "x_test shape : (300, 112, 112, 3)\n",
      "y_test shape : (300,)\n"
     ]
    }
   ],
   "source": [
    "def load_datas(img_path, number_of_data=300):  # 가위바위보 이미지 개수 총합에 주의하세요.\n",
    "    # 가위 : 0, 바위 : 1, 보 : 2\n",
    "    img_size=112\n",
    "    color=3\n",
    "    #이미지 데이터와 라벨(가위 : 0, 바위 : 1, 보 : 2) 데이터를 담을 행렬(matrix) 영역을 생성합니다.\n",
    "    imgs=np.zeros(number_of_data*img_size*img_size*color,dtype=np.int32).reshape(number_of_data,img_size,img_size,color)\n",
    "    labels=np.zeros(number_of_data,dtype=np.int32)\n",
    "\n",
    "    idx=0\n",
    "    for file in glob.iglob(img_path+'/scissor/*.jpg'):\n",
    "        img = np.array(Image.open(file),dtype=np.int32)\n",
    "        imgs[idx,:,:,:]=img    # 데이터 영역에 이미지 행렬을 복사\n",
    "        labels[idx]=0   # 가위 : 0\n",
    "        idx=idx+1\n",
    "\n",
    "    for file in glob.iglob(img_path+'/rock/*.jpg'):\n",
    "        img = np.array(Image.open(file),dtype=np.int32)\n",
    "        imgs[idx,:,:,:]=img    # 데이터 영역에 이미지 행렬을 복사\n",
    "        labels[idx]=1   # 바위 : 1\n",
    "        idx=idx+1  \n",
    "    \n",
    "    for file in glob.iglob(img_path+'/paper/*.jpg'):\n",
    "        img = np.array(Image.open(file),dtype=np.int32)\n",
    "        imgs[idx,:,:,:]=img    # 데이터 영역에 이미지 행렬을 복사\n",
    "        labels[idx]=2   # 보 : 2\n",
    "        idx=idx+1\n",
    "        \n",
    "    print(\"테스트 데이터(x_train)의 이미지 개수는\", idx,\"입니다.\")\n",
    "    return imgs, labels\n",
    "\n",
    "def resize_image(img_path):\n",
    "\timages=glob.glob(img_path + \"/*.jpg\")  \n",
    "    \n",
    "\tprint(len(images), \" images to be resized.\")\n",
    "\n",
    "    # 파일마다 모두 112x112 사이즈로 바꾸어 저장합니다.\n",
    "\ttarget_size=(112,112)\n",
    "\tfor img in images:\n",
    "\t\told_img=Image.open(img)\n",
    "\t\tnew_img=old_img.resize(target_size,Image.ANTIALIAS)\n",
    "\t\tnew_img.save(img, \"JPEG\")\n",
    "    \n",
    "\tprint(len(images), \" images resized.\")\n",
    "\n",
    "image_dir_path = os.getenv(\"HOME\") + \"/aiffel/rock_scissor_paper/test/scissor\"\n",
    "resize_image(image_dir_path)\n",
    "\n",
    "print(\"가위 이미지 resize 완료!\")\n",
    "\n",
    "image_dir_path = os.getenv(\"HOME\") + \"/aiffel/rock_scissor_paper/test/rock\"\n",
    "resize_image(image_dir_path)\n",
    "\n",
    "print(\"바위 이미지 resize 완료!\")\n",
    "\n",
    "image_dir_path = os.getenv(\"HOME\") + \"/aiffel/rock_scissor_paper/test/paper\"\n",
    "resize_image(image_dir_path)\n",
    "\n",
    "print(\"보 이미지 resize 완료!\")\n",
    "\n",
    "image_path = os.getenv(\"HOME\") + \"/aiffel/rock_scissor_paper/test\"\n",
    "(x_test, y_test) = load_datas(image_path)\n",
    "x_test_norm = x_test/255.0   # 입력은 0~1 사이의 값으로 정규화\n",
    "\n",
    "print(\"x_test shape : {}\".format(x_test.shape))\n",
    "print(\"y_test shape : {}\".format(y_test.shape))"
   ]
  },
  {
   "cell_type": "code",
   "execution_count": 7,
   "id": "floppy-diana",
   "metadata": {
    "scrolled": true
   },
   "outputs": [
    {
     "name": "stdout",
     "output_type": "stream",
     "text": [
      "10/10 - 1s - loss: 2.1650 - accuracy: 0.6400\n",
      "test_loss : 2.1649792194366455\n",
      "test_accuracy : 0.6399999856948853\n"
     ]
    }
   ],
   "source": [
    "test_loss, test_accuracy = model.evaluate(x_test_norm, y_test, verbose = 2)\n",
    "\n",
    "print(\"test_loss : {}\".format(test_loss))\n",
    "print(\"test_accuracy : {}\".format(test_accuracy))"
   ]
  }
 ],
 "metadata": {
  "kernelspec": {
   "display_name": "Python 3",
   "language": "python",
   "name": "python3"
  },
  "language_info": {
   "codemirror_mode": {
    "name": "ipython",
    "version": 3
   },
   "file_extension": ".py",
   "mimetype": "text/x-python",
   "name": "python",
   "nbconvert_exporter": "python",
   "pygments_lexer": "ipython3",
   "version": "3.7.9"
  }
 },
 "nbformat": 4,
 "nbformat_minor": 5
}
